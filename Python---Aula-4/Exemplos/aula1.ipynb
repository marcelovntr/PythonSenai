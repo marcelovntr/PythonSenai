{
 "cells": [
  {
   "cell_type": "markdown",
   "id": "7da8c415",
   "metadata": {},
   "source": [
    "Gerenciamento de dependencias"
   ]
  },
  {
   "cell_type": "code",
   "execution_count": null,
   "id": "fc062812",
   "metadata": {},
   "outputs": [
    {
     "ename": "",
     "evalue": "",
     "output_type": "error",
     "traceback": [
      "\u001b[1;31mRunning cells with '.venv (Python 3.10.12)' requires the ipykernel package.\n",
      "\u001b[1;31mInstall 'ipykernel' into the Python environment. \n",
      "\u001b[1;31mCommand: '/home/andre/Projects/Projeto-Senai/.venv/bin/python -m pip install ipykernel -U --force-reinstall'"
     ]
    }
   ],
   "source": [
    "# Criar ambiente virtual\n",
    "python -m venv meu_projeto_env\n",
    "source meu_projeto_env/bin/activate  # No Windows: meu_projeto_env\\Scripts\\activate\n",
    "\n",
    "# Instale as dependências e salve-as no arquivo de requisitos\n",
    "pip install requests beautifulsoup4\n",
    "pip freeze > requirements.txt\n",
    "\n",
    "# Para instalar em outro ambiente\n",
    "pip install -r requirements.txt"
   ]
  },
  {
   "cell_type": "markdown",
   "id": "766379ff",
   "metadata": {},
   "source": [
    "Tratamento de erros"
   ]
  },
  {
   "cell_type": "code",
   "execution_count": null,
   "id": "7ef8bf21",
   "metadata": {},
   "outputs": [
    {
     "ename": "",
     "evalue": "",
     "output_type": "error",
     "traceback": [
      "\u001b[1;31mThe kernel failed to start as the Python Environment 'Python' is no longer available. Consider selecting another kernel or refreshing the list of Python Environments."
     ]
    }
   ],
   "source": [
    "import logging\n",
    "\n",
    "# Configuração básica de logging\n",
    "logging.basicConfig(level=logging.INFO)\n",
    "\n",
    "def divide_numeros(a, b):\n",
    "    try:\n",
    "        resultado = a / b\n",
    "    except ZeroDivisionError:\n",
    "        logging.error(\"Erro: Divisão por zero não é permitida.\")\n",
    "        return None\n",
    "    except TypeError:\n",
    "        logging.error(\"Erro: Os argumentos devem ser numéricos.\")\n",
    "        return None\n",
    "    else:\n",
    "        # Este bloco é executado se nenhuma exceção ocorrer\n",
    "        logging.info(\"A divisão foi bem-sucedida.\")\n",
    "        return resultado\n",
    "    finally:\n",
    "        # Este bloco sempre será executado\n",
    "        logging.info(\"Função de divisão finalizada.\")\n",
    "\n",
    "divide_numeros(10, 2)\n",
    "divide_numeros(10, 0)\n",
    "divide_numeros(10, \"a\")"
   ]
  },
  {
   "cell_type": "code",
   "execution_count": null,
   "id": "aefb0bce",
   "metadata": {},
   "outputs": [],
   "source": [
    "import logging\n",
    "\n",
    "# Configuração básica de logging\n",
    "logging.basicConfig(level=logging.INFO)\n",
    "\n",
    "def divide_numeros(a, b):\n",
    "    try:\n",
    "        resultado = a / b\n",
    "        logging.info(\"A divisão foi bem-sucedida.\")\n",
    "        return resultado\n",
    "    except ZeroDivisionError:\n",
    "        logging.error(\"Erro: Divisão por zero não é permitida.\")\n",
    "        return None\n",
    "    except TypeError:\n",
    "        logging.error(\"Erro: Os argumentos devem ser numéricos.\")\n",
    "        return None\n",
    "    finally:\n",
    "        # Este bloco sempre será executado\n",
    "        logging.info(\"Função de divisão finalizada.\")\n",
    "\n",
    "divide_numeros(10, 2)\n",
    "divide_numeros(10, 0)\n",
    "divide_numeros(10, \"a\")"
   ]
  },
  {
   "cell_type": "markdown",
   "id": "f674a229",
   "metadata": {},
   "source": [
    "Tipagem"
   ]
  },
  {
   "cell_type": "code",
   "execution_count": null,
   "id": "29f87b0c",
   "metadata": {},
   "outputs": [],
   "source": [
    "from typing import List, Dict, Optional\n",
    "\n",
    "def calcula_media(numeros: List[float]) -> float:\n",
    "    \"\"\"Calcula a média de uma lista de números flutuantes.\"\"\"\n",
    "    if not numeros:\n",
    "        return 0.0\n",
    "    return sum(numeros) / len(numeros)\n",
    "\n",
    "def obtem_usuario(user_id: int) -> Optional[Dict[str, str]]:\n",
    "    \"\"\"Busca um usuário por ID. Retorna um dicionário ou None.\"\"\"\n",
    "    # Exemplo de lógica para busca de usuário\n",
    "    if user_id == 1:\n",
    "        return {\"nome\": \"Alice\", \"email\": \"alice@exemplo.com\"}\n",
    "    return None\n",
    "\n",
    "# Exemplos de uso\n",
    "media = calcula_media([10.5, 20.0, 30.5])\n",
    "print(f\"A média é: {media}\")\n",
    "\n",
    "usuario = obtem_usuario(1)\n",
    "if usuario:\n",
    "    print(f\"Usuário encontrado: {usuario['nome']}\")"
   ]
  },
  {
   "cell_type": "markdown",
   "id": "32df3401",
   "metadata": {},
   "source": [
    "Logging"
   ]
  },
  {
   "cell_type": "code",
   "execution_count": null,
   "id": "04202692",
   "metadata": {},
   "outputs": [],
   "source": [
    "import logging\n",
    "\n",
    "logging.basicConfig(\n",
    "    level=logging.INFO,\n",
    "    format='%(asctime)s - %(name)s - %(levelname)s - %(message)s'\n",
    ")\n",
    "\n",
    "logger = logging.getLogger(__name__)\n",
    "\n",
    "def processa_requisicao(data):\n",
    "    logger.info(f\"Iniciando o processamento de dados: {data}\")\n",
    "    if not isinstance(data, dict):\n",
    "        logger.error(\"Dados de requisição inválidos. Esperava um dicionário.\")\n",
    "        return False\n",
    "    \n",
    "    try:\n",
    "        nome = data['nome']\n",
    "        idade = data['idade']\n",
    "        logger.info(f\"Dados processados com sucesso para {nome}, de {idade} anos.\")\n",
    "        return True\n",
    "    except KeyError as e:\n",
    "        logger.warning(f\"Chave ausente nos dados: {e}\")\n",
    "        return False\n",
    "\n",
    "# Teste a função\n",
    "processa_requisicao({'nome': 'João', 'idade': 30})\n",
    "processa_requisicao(\"dados_invalidos\")"
   ]
  },
  {
   "cell_type": "code",
   "execution_count": null,
   "id": "956f7057",
   "metadata": {},
   "outputs": [],
   "source": [
    "Gestão de Contexto para abertura de arquivos"
   ]
  },
  {
   "cell_type": "code",
   "execution_count": null,
   "id": "3daca8f7",
   "metadata": {},
   "outputs": [],
   "source": [
    "import logging\n",
    "\n",
    "logging.basicConfig(\n",
    "    level=logging.INFO,\n",
    "    format='%(asctime)s - %(name)s - %(levelname)s - %(message)s'\n",
    ")\n",
    "\n",
    "logger = logging.getLogger(__name__)\n",
    "\n",
    "def processa_requisicao(data):\n",
    "    logger.info(f\"Iniciando o processamento de dados: {data}\")\n",
    "    if not isinstance(data, dict):\n",
    "        logger.error(\"Dados de requisição inválidos. Esperava um dicionário.\")\n",
    "        return False\n",
    "    \n",
    "    try:\n",
    "        nome = data['nome']\n",
    "        idade = data['idade']\n",
    "        logger.info(f\"Dados processados com sucesso para {nome}, de {idade} anos.\")\n",
    "        return True\n",
    "    except KeyError as e:\n",
    "        logger.warning(f\"Chave ausente nos dados: {e}\")\n",
    "        return False\n",
    "\n",
    "# Teste a função\n",
    "processa_requisicao({'nome': 'João', 'idade': 30})\n",
    "processa_requisicao(\"dados_invalidos\")"
   ]
  },
  {
   "cell_type": "markdown",
   "id": "e58a8f10",
   "metadata": {},
   "source": [
    "Compreensão de Lista"
   ]
  },
  {
   "cell_type": "code",
   "execution_count": null,
   "id": "f15d7232",
   "metadata": {},
   "outputs": [
    {
     "ename": "",
     "evalue": "",
     "output_type": "error",
     "traceback": [
      "\u001b[1;31mThe kernel failed to start as the Python Environment 'Python 3.10.12' is no longer available. Consider selecting another kernel or refreshing the list of Python Environments."
     ]
    }
   ],
   "source": [
    "# List Comprehension\n",
    "numeros_pares = [x for x in range(10) if x % 2 == 0]\n",
    "print(f\"Números pares: {numeros_pares}\")\n",
    "\n",
    "# Dictionary Comprehension\n",
    "quadrados = {x: x*x for x in range(5)}\n",
    "print(f\"Quadrados: {quadrados}\")\n",
    "\n",
    "# Generator Expression\n",
    "numeros_grandes = (x*2 for x in range(1000000))\n",
    "# Você pode iterar sobre ele, mas ele não consome toda a memória\n",
    "print(f\"Primeiros 5 números do gerador: {list(numeros_grandes)[:5]}\")"
   ]
  },
  {
   "cell_type": "code",
   "execution_count": null,
   "id": "323d8067",
   "metadata": {},
   "outputs": [],
   "source": [
    "Uso de variáveis de ambiente"
   ]
  },
  {
   "cell_type": "code",
   "execution_count": null,
   "id": "1fa7c155",
   "metadata": {},
   "outputs": [],
   "source": [
    "import os\n",
    "from dotenv import load_dotenv\n",
    "\n",
    "# Carrega variáveis de ambiente de um arquivo .env\n",
    "load_dotenv()\n",
    "\n",
    "# Nunca hard-code segredos no código\n",
    "db_senha = os.getenv(\"DB_PASSWORD\")\n",
    "api_key = os.getenv(\"API_KEY\")\n",
    "\n",
    "if not db_senha or not api_key:\n",
    "    print(\"Aviso: Variáveis de ambiente DB_PASSWORD ou API_KEY não foram carregadas.\")\n",
    "else:\n",
    "    print(\"Sucesso: Segredos carregados de variáveis de ambiente.\")"
   ]
  }
 ],
 "metadata": {
  "kernelspec": {
   "display_name": ".venv",
   "language": "python",
   "name": "python3"
  },
  "language_info": {
   "name": "python",
   "version": "3.10.12"
  }
 },
 "nbformat": 4,
 "nbformat_minor": 5
}
