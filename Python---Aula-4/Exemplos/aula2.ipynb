{
 "cells": [
  {
   "cell_type": "code",
   "execution_count": null,
   "id": "ffe426b8",
   "metadata": {
    "vscode": {
     "languageId": "plaintext"
    }
   },
   "outputs": [],
   "source": [
    "Testes Unitários    "
   ]
  },
  {
   "cell_type": "markdown",
   "id": "c81129da",
   "metadata": {},
   "source": [
    "import pytest\n",
    "\n",
    "def soma(a, b):\n",
    "    return a + b\n",
    "\n",
    "def subtrai(a, b):\n",
    "    return a - b\n",
    "\n",
    "def multiplica(a, b):\n",
    "    return a * b\n",
    "\n",
    "def divide(a, b):\n",
    "    if b == 0:\n",
    "        raise ValueError(\"Não pode dividir por zero!\")\n",
    "    return a / b\n",
    "\n",
    "# Exemplo de teste com pytest\n",
    "def test_soma():\n",
    "    assert soma(2, 3) == 5\n",
    "    assert soma(-1, 1) == 0\n",
    "    assert soma(0, 0) == 0\n",
    "\n",
    "def test_subtrai():\n",
    "    assert subtrai(5, 2) == 3\n",
    "    assert subtrai(10, 15) == -5\n",
    "\n",
    "def test_divide_zero():\n",
    "    with pytest.raises(ValueError):\n",
    "        divide(10, 0)"
   ]
  },
  {
   "cell_type": "markdown",
   "id": "07cbeb2a",
   "metadata": {},
   "source": [
    "Otimização de Lista"
   ]
  },
  {
   "cell_type": "code",
   "execution_count": null,
   "id": "084d8f3b",
   "metadata": {},
   "outputs": [],
   "source": [
    "# Evite este padrão\n",
    "lista = ['a', 'b', 'c']\n",
    "for i in range(len(lista)):\n",
    "    print(lista[i])\n",
    "\n",
    "print(\"-\" * 20)\n",
    "\n",
    "# Prefira este padrão (mais Pythonic e legível)\n",
    "# Pythonic é simples, facil e \"Barato\"(eficiente)\n",
    "for item in lista:\n",
    "    print(item)\n",
    "\n",
    "# Exemplo de busca eficiente\n",
    "elementos = [1, 5, 8, 12, 15, 20]\n",
    "busca = 12\n",
    "\n",
    "# Busca ineficiente em uma lista\n",
    "print(f\"Está na lista (ineficiente)? {busca in elementos}\") # Complexidade O(n)\n",
    "\n",
    "# Busca eficiente em um conjunto\n",
    "elementos_set = set(elementos)\n",
    "print(f\"Está no conjunto (eficiente)? {busca in elementos_set}\") # Complexidade O(1)"
   ]
  },
  {
   "cell_type": "markdown",
   "id": "0b2101ec",
   "metadata": {},
   "source": [
    "POO"
   ]
  },
  {
   "cell_type": "code",
   "execution_count": null,
   "id": "fd6f69ab",
   "metadata": {
    "vscode": {
     "languageId": "plaintext"
    }
   },
   "outputs": [],
   "source": [
    "class Veiculo:\n",
    "    \"\"\"Classe base para veículos.\"\"\"\n",
    "    def __init__(self, marca, modelo):\n",
    "        self.marca = marca\n",
    "        self.modelo = modelo\n",
    "    \n",
    "    def __str__(self):\n",
    "        return f\"{self.marca} {self.modelo}\"\n",
    "\n",
    "class Carro(Veiculo):\n",
    "    \"\"\"Uma subclasse de Veiculo.\"\"\"\n",
    "    def __init__(self, marca, modelo, portas):\n",
    "        super().__init__(marca, modelo)\n",
    "        self.portas = portas\n",
    "        self._odometro = 0 # Propriedade \"privada\"\n",
    "\n",
    "    def dirigir(self, km):\n",
    "        \"\"\"Atualiza a quilometragem do carro.\"\"\"\n",
    "        if km > 0:\n",
    "            self._odometro += km\n",
    "            print(f\"Dirigiu {km} km. Odômetro: {self._odometro} km.\")\n",
    "        else:\n",
    "            print(\"Distância inválida.\")\n",
    "\n",
    "carro = Carro(\"Toyota\", \"Corolla\", 4)\n",
    "print(f\"Meu carro é um {carro}.\")\n",
    "carro.dirigir(150)\n",
    "carro.dirigir(-10)"
   ]
  },
  {
   "cell_type": "markdown",
   "id": "bd12c825",
   "metadata": {},
   "source": [
    "Testes"
   ]
  },
  {
   "cell_type": "code",
   "execution_count": null,
   "id": "838bd524",
   "metadata": {
    "vscode": {
     "languageId": "plaintext"
    }
   },
   "outputs": [],
   "source": [
    "# calculadora.py\n",
    "def soma(a, b):\n",
    "    return a + b\n",
    "\n",
    "def subtrai(a, b):\n",
    "    return a - b"
   ]
  },
  {
   "cell_type": "code",
   "execution_count": null,
   "id": "2918141c",
   "metadata": {
    "vscode": {
     "languageId": "plaintext"
    }
   },
   "outputs": [],
   "source": [
    "# test_calculadora.py\n",
    "from calculadora import soma, subtrai\n",
    "\n",
    "def test_soma_positivos():\n",
    "    assert soma(2, 3) == 5\n",
    "\n",
    "def test_soma_negativos():\n",
    "    assert soma(-1, -1) == -2\n",
    "\n",
    "def test_subtrai_simples():\n",
    "    assert subtrai(5, 2) == 3"
   ]
  },
  {
   "cell_type": "code",
   "execution_count": null,
   "id": "60aa004f",
   "metadata": {
    "vscode": {
     "languageId": "plaintext"
    }
   },
   "outputs": [],
   "source": [
    "# test_calculadora.py\n",
    "import pytest\n",
    "from calculadora import soma\n",
    "\n",
    "@pytest.mark.parametrize(\"a, b, resultado_esperado\", [\n",
    "    (1, 2, 3),\n",
    "    (0, 0, 0),\n",
    "    (-1, 1, 0),\n",
    "    (5, 5, 10),\n",
    "])\n",
    "def test_soma_multiplos_casos(a, b, resultado_esperado):\n",
    "    assert soma(a, b) == resultado_esperado"
   ]
  },
  {
   "cell_type": "code",
   "execution_count": null,
   "id": "b0cd4439",
   "metadata": {
    "vscode": {
     "languageId": "plaintext"
    }
   },
   "outputs": [],
   "source": [
    "# test_database.py\n",
    "import pytest\n",
    "\n",
    "@pytest.fixture\n",
    "def conexao_banco_dados():\n",
    "    # Código de configuração (setup)\n",
    "    print(\"\\nConectando ao banco de dados...\")\n",
    "    conn = \"conexao_mockada\"  # Mock de uma conexão real\n",
    "    yield conn  # Onde o teste é executado\n",
    "    # Código de limpeza (teardown)\n",
    "    print(\"\\nFechando a conexão...\")\n",
    "\n",
    "def test_consulta_usuario(conexao_banco_dados):\n",
    "    # O teste recebe o valor retornado pela fixture\n",
    "    print(\"Executando a consulta...\")\n",
    "    assert conexao_banco_dados is not None"
   ]
  },
  {
   "cell_type": "markdown",
   "id": "8e09eca2",
   "metadata": {},
   "source": [
    "pip install pytest-cov\n",
    "pytest --cov=."
   ]
  },
  {
   "cell_type": "code",
   "execution_count": null,
   "id": "80c85ce8",
   "metadata": {
    "vscode": {
     "languageId": "plaintext"
    }
   },
   "outputs": [],
   "source": [
    "PEP 8"
   ]
  },
  {
   "cell_type": "code",
   "execution_count": null,
   "id": "a62bfc60",
   "metadata": {
    "vscode": {
     "languageId": "plaintext"
    }
   },
   "outputs": [],
   "source": [
    "# O que não fazer\n",
    "MinhaVariavel = 10\n",
    "def minhaFuncao():\n",
    "    pass\n",
    "class minha_classe():\n",
    "    pass\n",
    "PI_NUMBER = 3.14"
   ]
  },
  {
   "cell_type": "code",
   "execution_count": null,
   "id": "b486e674",
   "metadata": {
    "vscode": {
     "languageId": "plaintext"
    }
   },
   "outputs": [],
   "source": [
    "# O que fazer\n",
    "minha_variavel = 10\n",
    "def minha_funcao():\n",
    "    pass\n",
    "class MinhaClasse():\n",
    "    pass\n",
    "PI = 3.14"
   ]
  },
  {
   "cell_type": "code",
   "execution_count": null,
   "id": "88e803fe",
   "metadata": {
    "vscode": {
     "languageId": "plaintext"
    }
   },
   "outputs": [],
   "source": [
    "def minha_funcao(a,b):\n",
    "    x=a+b\n",
    "    return x\n",
    "\n",
    "\n",
    "def minha_funcao(a, b):\n",
    "    x = a + b\n",
    "    return x"
   ]
  },
  {
   "cell_type": "code",
   "execution_count": null,
   "id": "892ed119",
   "metadata": {
    "vscode": {
     "languageId": "plaintext"
    }
   },
   "outputs": [],
   "source": [
    "resultado = primeiro_valor + segundo_valor + terceiro_valor + quarto_valor + quinto_valor + sexto_valor\n",
    "\n",
    "\n",
    "resultado = (primeiro_valor + segundo_valor + terceiro_valor +\n",
    "             quarto_valor + quinto_valor + sexto_valor)"
   ]
  },
  {
   "cell_type": "code",
   "execution_count": null,
   "id": "f6a024b8",
   "metadata": {
    "vscode": {
     "languageId": "plaintext"
    }
   },
   "outputs": [],
   "source": [
    "Docstring"
   ]
  },
  {
   "cell_type": "code",
   "execution_count": null,
   "id": "d095b3f7",
   "metadata": {
    "vscode": {
     "languageId": "plaintext"
    }
   },
   "outputs": [],
   "source": [
    "def soma(a, b):\n",
    "    \"\"\"\n",
    "    Soma dois números e retorna o resultado.\n",
    "    \n",
    "    Args:\n",
    "        a (int): O primeiro número.\n",
    "        b (int): O segundo número.\n",
    "        \n",
    "    Returns:\n",
    "        int: A soma de a e b.\n",
    "    \"\"\"\n",
    "    # Esta linha soma os valores.\n",
    "    return a + b"
   ]
  },
  {
   "cell_type": "code",
   "execution_count": null,
   "id": "98b5cd26",
   "metadata": {
    "vscode": {
     "languageId": "plaintext"
    }
   },
   "outputs": [],
   "source": [
    "Tipagem"
   ]
  },
  {
   "cell_type": "code",
   "execution_count": null,
   "id": "c82cd91e",
   "metadata": {
    "vscode": {
     "languageId": "plaintext"
    }
   },
   "outputs": [],
   "source": [
    "# Com dicas de tipo\n",
    "def somar_numeros(a: int, b: int) -> int:\n",
    "    return a + b\n",
    "\n",
    "# Ferramentas como mypy podem verificar isso:\n",
    "resultado1 = somar_numeros(1, 2)  # Válido\n",
    "resultado2 = somar_numeros(\"olá\", 2) # Ferramenta de análise estática detecta o erro aqui!"
   ]
  }
 ],
 "metadata": {
  "language_info": {
   "name": "python"
  }
 },
 "nbformat": 4,
 "nbformat_minor": 5
}
